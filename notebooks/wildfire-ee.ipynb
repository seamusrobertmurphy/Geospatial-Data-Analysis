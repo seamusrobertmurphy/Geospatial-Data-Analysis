{
 "cells": [
  {
   "cell_type": "markdown",
   "metadata": {},
   "source": [
    "# Wildfire Earth Engine Collections"
   ]
  },
  {
   "cell_type": "code",
   "execution_count": 1,
   "metadata": {},
   "outputs": [],
   "source": [
    "# !pip install geemap"
   ]
  },
  {
   "cell_type": "code",
   "execution_count": 2,
   "metadata": {},
   "outputs": [],
   "source": [
    "import geemap\n",
    "import ee\n",
    "import ipyleaflet\n",
    "import os"
   ]
  },
  {
   "cell_type": "markdown",
   "metadata": {},
   "source": [
    "### Basemaps: Demo & Search Tool"
   ]
  },
  {
   "cell_type": "code",
   "execution_count": 9,
   "metadata": {},
   "outputs": [
    {
     "data": {
      "application/vnd.jupyter.widget-view+json": {
       "model_id": "07e5fcd499df44e1b1f66cd8e4794319",
       "version_major": 2,
       "version_minor": 0
      },
      "text/plain": [
       "Map(center=[20, 0], controls=(WidgetControl(options=['position', 'transparent_bg'], widget=HBox(children=(Togg…"
      ]
     },
     "metadata": {},
     "output_type": "display_data"
    }
   ],
   "source": [
    "# Demo with dropdown list (top right)\n",
    "m = geemap.Map()\n",
    "m.basemap_demo()\n",
    "m"
   ]
  },
  {
   "cell_type": "markdown",
   "metadata": {},
   "source": [
    "### Basemap: Digital Elevation Layer"
   ]
  },
  {
   "cell_type": "code",
   "execution_count": 26,
   "metadata": {},
   "outputs": [
    {
     "data": {
      "application/vnd.jupyter.widget-view+json": {
       "model_id": "cc664fa5c5194befbab41530fac245ce",
       "version_major": 2,
       "version_minor": 0
      },
      "text/plain": [
       "Map(center=[49, -119], controls=(WidgetControl(options=['position', 'transparent_bg'], widget=HBox(children=(T…"
      ]
     },
     "metadata": {},
     "output_type": "display_data"
    }
   ],
   "source": [
    "# Digital Elevation Basemap: OpenTopoMap - SRTM90\n",
    "Map = geemap.Map(center=(49,-119), zoom=3)\n",
    "Map.add_basemap('OpenTopoMap')\n",
    "Map"
   ]
  },
  {
   "cell_type": "markdown",
   "metadata": {},
   "source": [
    "### Basemaps: Spot/Sentinel RGB"
   ]
  },
  {
   "cell_type": "code",
   "execution_count": 10,
   "metadata": {},
   "outputs": [
    {
     "data": {
      "application/vnd.jupyter.widget-view+json": {
       "model_id": "8ac5247413114e78a1365120960f3c55",
       "version_major": 2,
       "version_minor": 0
      },
      "text/plain": [
       "Map(center=[49, -119], controls=(WidgetControl(options=['position', 'transparent_bg'], widget=HBox(children=(T…"
      ]
     },
     "metadata": {},
     "output_type": "display_data"
    }
   ],
   "source": [
    "# Satellite True Colour basemap: SATELLITE/HYBRID - spot6/sentinel\n",
    "Map = geemap.Map(center=(49,-119), zoom=3)\n",
    "Map.add_basemap('HYBRID')\n",
    "Map"
   ]
  },
  {
   "cell_type": "markdown",
   "metadata": {},
   "source": [
    "### Active Fire Layer: FIRMS"
   ]
  },
  {
   "cell_type": "markdown",
   "metadata": {},
   "source": [
    " - https://firms.modaps.eosdis.nasa.gov/map/#d:24hrs;@0.0,0.0,3z\n",
    " - https://developers.google.com/earth-engine/datasets/catalog/FIRMS#description\n",
    " \n",
    " Using '.first' image in stack to call latest update for active fire feed:"
   ]
  },
  {
   "cell_type": "code",
   "execution_count": 33,
   "metadata": {},
   "outputs": [
    {
     "data": {
      "application/vnd.jupyter.widget-view+json": {
       "model_id": "4425f27220844710a127448f2fc1060f",
       "version_major": 2,
       "version_minor": 0
      },
      "text/plain": [
       "Map(center=[50, -119], controls=(WidgetControl(options=['position', 'transparent_bg'], widget=HBox(children=(T…"
      ]
     },
     "metadata": {},
     "output_type": "display_data"
    }
   ],
   "source": [
    "Map = geemap.Map(center=(50,-119), zoom=7)\n",
    "Map.add_basemap('CartoDB.Positron')\n",
    "dataset_nvw = ee.ImageCollection('FIRMS')\n",
    "image = dataset_nvw.first()\n",
    "Map.addLayer(image, {}, \"Active Fires: FIRMS\")\n",
    "Map"
   ]
  },
  {
   "cell_type": "markdown",
   "metadata": {},
   "source": [
    "### Active Fire Layer: MODIS Daily 1km & Date/Time Slice"
   ]
  },
  {
   "cell_type": "code",
   "execution_count": 58,
   "metadata": {},
   "outputs": [
    {
     "ename": "IndentationError",
     "evalue": "unexpected indent (848098690.py, line 2)",
     "output_type": "error",
     "traceback": [
      "\u001b[0;36m  Input \u001b[0;32mIn [58]\u001b[0;36m\u001b[0m\n\u001b[0;31m    .filter(ee.Filter.date('2018-01-01', '2018-05-01'));\u001b[0m\n\u001b[0m    ^\u001b[0m\n\u001b[0;31mIndentationError\u001b[0m\u001b[0;31m:\u001b[0m unexpected indent\n"
     ]
    }
   ],
   "source": [
    "dataset = ee.ImageCollection('MODIS/006/MYD14A1')\n",
    "                  .filter(ee.Filter.date('2018-01-01', '2018-05-01'));\n",
    "var fireMaskVis = {\n",
    "  min: 0.0,\n",
    "  max: 6000.0,\n",
    "  bands: ['MaxFRP', 'FireMask', 'FireMask'],\n",
    "};\n",
    "Map.setCenter(6.746, 46.529, 2);\n",
    "Map.addLayer(dataset, fireMaskVis, 'Fire Mask');\n",
    "Map"
   ]
  },
  {
   "cell_type": "markdown",
   "metadata": {},
   "source": [
    "### Image Dimensions & Date Filter"
   ]
  },
  {
   "cell_type": "code",
   "execution_count": null,
   "metadata": {},
   "outputs": [],
   "source": [
    "image = dataset_szj.first()\n",
    "geemap.image_props(image).getInfo()\n"
   ]
  },
  {
   "cell_type": "code",
   "execution_count": null,
   "metadata": {},
   "outputs": [],
   "source": [
    "print(dataset_szj.size().getInfo())"
   ]
  },
  {
   "cell_type": "code",
   "execution_count": null,
   "metadata": {},
   "outputs": [],
   "source": [
    "image2 = dataset_szj.first()\n",
    "Map.addLayer(image2, {}, 'Active Fires')\n",
    "Map"
   ]
  },
  {
   "cell_type": "markdown",
   "metadata": {},
   "source": [
    "### Load Fuel Type Map (Internal Algo)"
   ]
  },
  {
   "cell_type": "code",
   "execution_count": null,
   "metadata": {},
   "outputs": [],
   "source": [
    "#fueltype_internal_shp = '/media/seamus/128GB_WORKD/data/vector/wildfire/cffdrs_fueltype_internal.shp'\n",
    "#fueltype_internal = geemap.shp_to_ee(fueltype_internal_shp)\n",
    "#Map.addLayer(fueltype_internal, {}, 'Fuel Type')\n",
    "#Map"
   ]
  },
  {
   "cell_type": "code",
   "execution_count": null,
   "metadata": {},
   "outputs": [],
   "source": [
    "dir = os.path.join(os.path.expanduser('~'), 'wildfire')\n",
    "cabin_cffdrs_internal = os.path.join('/media/seamus/128GB_WORK/data/vector/wildfire/cffdrs_fueltype_internal.shp')"
   ]
  },
  {
   "cell_type": "code",
   "execution_count": null,
   "metadata": {},
   "outputs": [],
   "source": [
    "if not os.path.exists(cabin_cffdrs_internal):\n",
    "    cabin_fuel_url = 'https://drive.google.com/file/d/1uj8UxXJzFOW2Gbttds38a4dorfhK8Y7i/view?usp=sharing'\n",
    "    geemap.download_from_gdrive(cabin_fuel_url, 'SOIL_SISNationalSoils.shp', dir, unzip=False)"
   ]
  },
  {
   "cell_type": "code",
   "execution_count": null,
   "metadata": {
    "scrolled": true
   },
   "outputs": [],
   "source": [
    "Map.addLayer(cabin_cffdrs_internal)"
   ]
  },
  {
   "cell_type": "code",
   "execution_count": null,
   "metadata": {},
   "outputs": [],
   "source": [
    "weather_stations_active_shp = '/media/seamus/128GB_WORKD/data/vector/weather_stations/weather_stations_mof_bc.shp'\n",
    "weather_stations_active = geemap.shp_to_ee(weather_stations_active_shp)\n",
    "Map.addLayer(weather_stations_active)"
   ]
  }
 ],
 "metadata": {
  "hide_input": false,
  "kernelspec": {
   "display_name": "Python 3 (ipykernel)",
   "language": "python",
   "name": "python3"
  },
  "language_info": {
   "codemirror_mode": {
    "name": "ipython",
    "version": 3
   },
   "file_extension": ".py",
   "mimetype": "text/x-python",
   "name": "python",
   "nbconvert_exporter": "python",
   "pygments_lexer": "ipython3",
   "version": "3.8.12"
  },
  "toc": {
   "base_numbering": 1,
   "nav_menu": {},
   "number_sections": true,
   "sideBar": true,
   "skip_h1_title": true,
   "title_cell": "Table of Contents",
   "title_sidebar": "Contents",
   "toc_cell": true,
   "toc_position": {
    "height": "calc(100% - 180px)",
    "left": "10px",
    "top": "150px",
    "width": "233.817px"
   },
   "toc_section_display": true,
   "toc_window_display": true
  },
  "varInspector": {
   "cols": {
    "lenName": 16,
    "lenType": 16,
    "lenVar": 40
   },
   "kernels_config": {
    "python": {
     "delete_cmd_postfix": "",
     "delete_cmd_prefix": "del ",
     "library": "var_list.py",
     "varRefreshCmd": "print(var_dic_list())"
    },
    "r": {
     "delete_cmd_postfix": ") ",
     "delete_cmd_prefix": "rm(",
     "library": "var_list.r",
     "varRefreshCmd": "cat(var_dic_list()) "
    }
   },
   "types_to_exclude": [
    "module",
    "function",
    "builtin_function_or_method",
    "instance",
    "_Feature"
   ],
   "window_display": false
  }
 },
 "nbformat": 4,
 "nbformat_minor": 4
}
